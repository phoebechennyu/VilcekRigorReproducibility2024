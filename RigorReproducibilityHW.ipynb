{
  "nbformat": 4,
  "nbformat_minor": 0,
  "metadata": {
    "colab": {
      "provenance": []
    },
    "kernelspec": {
      "name": "python3",
      "display_name": "Python 3"
    },
    "language_info": {
      "name": "python"
    }
  },
  "cells": [
    {
      "cell_type": "code",
      "execution_count": null,
      "metadata": {
        "id": "xY9InpEMzJWw"
      },
      "outputs": [],
      "source": []
    },
    {
      "cell_type": "markdown",
      "source": [
        "October 29 2024"
      ],
      "metadata": {
        "id": "d2WnesyCzQz_"
      }
    },
    {
      "cell_type": "code",
      "source": [
        "2*10"
      ],
      "metadata": {
        "colab": {
          "base_uri": "https://localhost:8080/"
        },
        "id": "5FaoTUNWzWGo",
        "outputId": "6a639ada-cd95-41dc-d98f-2f8099a4f383"
      },
      "execution_count": null,
      "outputs": [
        {
          "output_type": "execute_result",
          "data": {
            "text/plain": [
              "20"
            ]
          },
          "metadata": {},
          "execution_count": 1
        }
      ]
    },
    {
      "cell_type": "code",
      "source": [
        "print('October 29 2024')"
      ],
      "metadata": {
        "colab": {
          "base_uri": "https://localhost:8080/"
        },
        "id": "9ABYbmEIzjDT",
        "outputId": "5a40ba14-4ceb-4ee6-ee7d-077f974a00af"
      },
      "execution_count": null,
      "outputs": [
        {
          "output_type": "stream",
          "name": "stdout",
          "text": [
            "October 29 2024\n"
          ]
        }
      ]
    },
    {
      "cell_type": "markdown",
      "source": [
        "Computational reproducibility is important for research especially as investigators have begun to implement more methods of computational analysis and AI. Computational methods, languages, and naming systems can vary greatly between projects; therefore, it is crucial that software and coding is clearly and consistently annotated and that it can be accessibly understood. Keeping computational analysis and software in repositories will help researchers store their computational tools and programs in a safe location. Tracking changes in programs is also important for reproducibility as it can help fellow coworkers or collaborators read your code and replicate your analysis. Furthermore, publishing on sites such as GitHub can foster and accommodate collaborations. GitHub allows others a reliable source to access one's computational methods."
      ],
      "metadata": {
        "id": "hxviHuunzpJr"
      }
    }
  ]
}